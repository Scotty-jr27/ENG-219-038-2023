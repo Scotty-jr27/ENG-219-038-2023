{
 "cells": [
  {
   "cell_type": "markdown",
   "id": "f43256ca",
   "metadata": {
    "papermill": {
     "duration": 0.004409,
     "end_time": "2025-02-24T11:01:09.033498",
     "exception": false,
     "start_time": "2025-02-24T11:01:09.029089",
     "status": "completed"
    },
    "tags": []
   },
   "source": [
    "**This notebook is an exercise in the [Intro to Programming](https://www.kaggle.com/learn/intro-to-programming) course.  You can reference the tutorial at [this link](https://www.kaggle.com/alexisbcook/data-types).**\n",
    "\n",
    "---\n"
   ]
  },
  {
   "cell_type": "markdown",
   "id": "3b6e29cf",
   "metadata": {
    "papermill": {
     "duration": 0.003335,
     "end_time": "2025-02-24T11:01:09.040411",
     "exception": false,
     "start_time": "2025-02-24T11:01:09.037076",
     "status": "completed"
    },
    "tags": []
   },
   "source": [
    "In the tutorial, you learned about four different data types: floats, integers, strings, and booleans.  In this exercise, you'll experiment with them.\n",
    "\n",
    "# Set up the notebook\n",
    "\n",
    "Run the next code cell without changes to set up the notebook."
   ]
  },
  {
   "cell_type": "code",
   "execution_count": 1,
   "id": "16e9be0e",
   "metadata": {
    "execution": {
     "iopub.execute_input": "2025-02-24T11:01:09.048789Z",
     "iopub.status.busy": "2025-02-24T11:01:09.048466Z",
     "iopub.status.idle": "2025-02-24T11:01:10.503092Z",
     "shell.execute_reply": "2025-02-24T11:01:10.501767Z"
    },
    "papermill": {
     "duration": 1.460626,
     "end_time": "2025-02-24T11:01:10.504522",
     "exception": false,
     "start_time": "2025-02-24T11:01:09.043896",
     "status": "completed"
    },
    "tags": []
   },
   "outputs": [
    {
     "name": "stdout",
     "output_type": "stream",
     "text": [
      "Setup complete.\n"
     ]
    }
   ],
   "source": [
    "# Set up the exercise\n",
    "from learntools.core import binder\n",
    "binder.bind(globals())\n",
    "from learntools.intro_to_programming.ex3 import *\n",
    "print('Setup complete.')"
   ]
  },
  {
   "cell_type": "markdown",
   "id": "a1b520c0",
   "metadata": {
    "papermill": {
     "duration": 0.003453,
     "end_time": "2025-02-24T11:01:10.512277",
     "exception": false,
     "start_time": "2025-02-24T11:01:10.508824",
     "status": "completed"
    },
    "tags": []
   },
   "source": [
    "# Question 1\n",
    "\n",
    "You have seen how to convert a float to an integer with the `int` function.  Try this out yourself by running the code cell below."
   ]
  },
  {
   "cell_type": "code",
   "execution_count": 2,
   "id": "254d259b",
   "metadata": {
    "execution": {
     "iopub.execute_input": "2025-02-24T11:01:10.520680Z",
     "iopub.status.busy": "2025-02-24T11:01:10.520301Z",
     "iopub.status.idle": "2025-02-24T11:01:10.525929Z",
     "shell.execute_reply": "2025-02-24T11:01:10.524758Z"
    },
    "papermill": {
     "duration": 0.01173,
     "end_time": "2025-02-24T11:01:10.527562",
     "exception": false,
     "start_time": "2025-02-24T11:01:10.515832",
     "status": "completed"
    },
    "tags": []
   },
   "outputs": [
    {
     "name": "stdout",
     "output_type": "stream",
     "text": [
      "1.0\n",
      "<class 'float'>\n",
      "1\n",
      "<class 'int'>\n"
     ]
    }
   ],
   "source": [
    "# Define a float\n",
    "y = 1.\n",
    "print(y)\n",
    "print(type(y))\n",
    "\n",
    "# Convert float to integer with the int function\n",
    "z = int(y)\n",
    "print(z)\n",
    "print(type(z))"
   ]
  },
  {
   "cell_type": "markdown",
   "id": "d48fd023",
   "metadata": {
    "papermill": {
     "duration": 0.004086,
     "end_time": "2025-02-24T11:01:10.536687",
     "exception": false,
     "start_time": "2025-02-24T11:01:10.532601",
     "status": "completed"
    },
    "tags": []
   },
   "source": [
    "In this case, the float you are using has no numbers after the decimal.  \n",
    "- But what happens when you try to convert a float with a fractional part to an integer?  \n",
    "- How does the outcome of the `int` function change for positive and negative numbers?\n",
    "\n",
    "Use the next code cell to investigate and answer these questions.  Feel free to add or remove any lines of code -- it is your workspace!"
   ]
  },
  {
   "cell_type": "code",
   "execution_count": 3,
   "id": "f856b0a4",
   "metadata": {
    "execution": {
     "iopub.execute_input": "2025-02-24T11:01:10.545821Z",
     "iopub.status.busy": "2025-02-24T11:01:10.545446Z",
     "iopub.status.idle": "2025-02-24T11:01:10.550560Z",
     "shell.execute_reply": "2025-02-24T11:01:10.549751Z"
    },
    "papermill": {
     "duration": 0.011217,
     "end_time": "2025-02-24T11:01:10.551829",
     "exception": false,
     "start_time": "2025-02-24T11:01:10.540612",
     "status": "completed"
    },
    "tags": []
   },
   "outputs": [
    {
     "name": "stdout",
     "output_type": "stream",
     "text": [
      "1\n",
      "1\n",
      "-3\n",
      "-2\n"
     ]
    }
   ],
   "source": [
    "# Uncomment and run this code to get started!\n",
    "print(int(1.2321))\n",
    "print(int(1.747))\n",
    "print(int(-3.94535))\n",
    "print(int(-2.19774))"
   ]
  },
  {
   "cell_type": "markdown",
   "id": "41a541fa",
   "metadata": {
    "papermill": {
     "duration": 0.003697,
     "end_time": "2025-02-24T11:01:10.559895",
     "exception": false,
     "start_time": "2025-02-24T11:01:10.556198",
     "status": "completed"
    },
    "tags": []
   },
   "source": [
    "Once you have an answer, run the code cell below to see the solution.  Viewing the solution will give you credit for answering the problem."
   ]
  },
  {
   "cell_type": "code",
   "execution_count": 4,
   "id": "f62f825b",
   "metadata": {
    "execution": {
     "iopub.execute_input": "2025-02-24T11:01:10.568719Z",
     "iopub.status.busy": "2025-02-24T11:01:10.568385Z",
     "iopub.status.idle": "2025-02-24T11:01:10.575998Z",
     "shell.execute_reply": "2025-02-24T11:01:10.575187Z"
    },
    "papermill": {
     "duration": 0.013622,
     "end_time": "2025-02-24T11:01:10.577290",
     "exception": false,
     "start_time": "2025-02-24T11:01:10.563668",
     "status": "completed"
    },
    "tags": []
   },
   "outputs": [
    {
     "data": {
      "application/javascript": [
       "parent.postMessage({\"jupyterEvent\": \"custom.exercise_interaction\", \"data\": {\"outcomeType\": 1, \"valueTowardsCompletion\": 0.2, \"interactionType\": 1, \"questionType\": 4, \"questionId\": \"1_FloatToInt\", \"learnToolsVersion\": \"0.3.4\", \"failureMessage\": \"\", \"exceptionClass\": \"\", \"trace\": \"\"}}, \"*\")"
      ],
      "text/plain": [
       "<IPython.core.display.Javascript object>"
      ]
     },
     "metadata": {},
     "output_type": "display_data"
    },
    {
     "data": {
      "text/markdown": [
       "<span style=\"color:#33cc33\">Correct:</span> \n",
       "\n",
       "Negative floats are always rounded UP to the closest integer (for instance, both -1.1 and -1.9 are rounded up to -1). Positive floats are always rounded DOWN to the closest integer (for instance, 2.1 and 2.9 are rounded down to 2)."
      ],
      "text/plain": [
       "Correct: \n",
       "\n",
       "Negative floats are always rounded UP to the closest integer (for instance, both -1.1 and -1.9 are rounded up to -1). Positive floats are always rounded DOWN to the closest integer (for instance, 2.1 and 2.9 are rounded down to 2)."
      ]
     },
     "metadata": {},
     "output_type": "display_data"
    }
   ],
   "source": [
    "# Check your answer (Run this code cell to receive credit!)\n",
    "q1.check()"
   ]
  },
  {
   "cell_type": "markdown",
   "id": "6b72ecff",
   "metadata": {
    "papermill": {
     "duration": 0.00369,
     "end_time": "2025-02-24T11:01:10.585358",
     "exception": false,
     "start_time": "2025-02-24T11:01:10.581668",
     "status": "completed"
    },
    "tags": []
   },
   "source": [
    "# Question 2\n",
    "\n",
    "In the tutorial, you learned about booleans (which can take a value of `True` or `False`), in addition to integers, floats, and strings.  For this question, your goal is to determine what happens when you multiply a boolean by any of these data types.  Specifically, \n",
    "- What happens when you multiply an integer or float by `True`?  What happens when you multiply them by `False`?  How does the answer change if the numbers are positive or negative?\n",
    "- What happens when you multiply a string by `True`?  By `False`?\n",
    "\n",
    "Use the next code cell for your investigation. "
   ]
  },
  {
   "cell_type": "code",
   "execution_count": 5,
   "id": "2aef223f",
   "metadata": {
    "execution": {
     "iopub.execute_input": "2025-02-24T11:01:10.594133Z",
     "iopub.status.busy": "2025-02-24T11:01:10.593796Z",
     "iopub.status.idle": "2025-02-24T11:01:10.598543Z",
     "shell.execute_reply": "2025-02-24T11:01:10.597390Z"
    },
    "papermill": {
     "duration": 0.010348,
     "end_time": "2025-02-24T11:01:10.599689",
     "exception": false,
     "start_time": "2025-02-24T11:01:10.589341",
     "status": "completed"
    },
    "tags": []
   },
   "outputs": [
    {
     "name": "stdout",
     "output_type": "stream",
     "text": [
      "3\n",
      "-3.1\n",
      "<class 'str'>\n",
      "0\n"
     ]
    }
   ],
   "source": [
    "# Uncomment and run this code to get started!\n",
    "print(3 * True)\n",
    "print(-3.1 * True)\n",
    "print(type(\"abc\" * False))\n",
    "print(len(\"abc\" * False))"
   ]
  },
  {
   "cell_type": "markdown",
   "id": "01b4ffcd",
   "metadata": {
    "papermill": {
     "duration": 0.003499,
     "end_time": "2025-02-24T11:01:10.607323",
     "exception": false,
     "start_time": "2025-02-24T11:01:10.603824",
     "status": "completed"
    },
    "tags": []
   },
   "source": [
    "Once you have an answer, run the code cell below to see the solution.  Viewing the solution will give you credit for answering the problem."
   ]
  },
  {
   "cell_type": "code",
   "execution_count": 6,
   "id": "f4315ac6",
   "metadata": {
    "execution": {
     "iopub.execute_input": "2025-02-24T11:01:10.615851Z",
     "iopub.status.busy": "2025-02-24T11:01:10.615579Z",
     "iopub.status.idle": "2025-02-24T11:01:10.621429Z",
     "shell.execute_reply": "2025-02-24T11:01:10.620729Z"
    },
    "papermill": {
     "duration": 0.01167,
     "end_time": "2025-02-24T11:01:10.622621",
     "exception": false,
     "start_time": "2025-02-24T11:01:10.610951",
     "status": "completed"
    },
    "tags": []
   },
   "outputs": [
    {
     "data": {
      "application/javascript": [
       "parent.postMessage({\"jupyterEvent\": \"custom.exercise_interaction\", \"data\": {\"outcomeType\": 1, \"valueTowardsCompletion\": 0.2, \"interactionType\": 1, \"questionType\": 4, \"questionId\": \"2_MultiplyBooleans\", \"learnToolsVersion\": \"0.3.4\", \"failureMessage\": \"\", \"exceptionClass\": \"\", \"trace\": \"\"}}, \"*\")"
      ],
      "text/plain": [
       "<IPython.core.display.Javascript object>"
      ]
     },
     "metadata": {},
     "output_type": "display_data"
    },
    {
     "data": {
      "text/markdown": [
       "<span style=\"color:#33cc33\">Correct:</span> \n",
       "\n",
       "When you multiple an integer or float by a boolean with value `True`, it just returns that same integer or float (and is equivalent to multiplying by 1).  If you multiply an integer or float by a boolean with value `False`, it always returns 0.  This is true for both positive and negative numbers.  If you multiply a string by a boolean with value `True`, it just returns that same string.  And if you multiply a string by a boolean with value `False`, it returns an empty string (or a string with length zero)."
      ],
      "text/plain": [
       "Correct: \n",
       "\n",
       "When you multiple an integer or float by a boolean with value `True`, it just returns that same integer or float (and is equivalent to multiplying by 1).  If you multiply an integer or float by a boolean with value `False`, it always returns 0.  This is true for both positive and negative numbers.  If you multiply a string by a boolean with value `True`, it just returns that same string.  And if you multiply a string by a boolean with value `False`, it returns an empty string (or a string with length zero)."
      ]
     },
     "metadata": {},
     "output_type": "display_data"
    }
   ],
   "source": [
    "# Check your answer (Run this code cell to receive credit!)\n",
    "q2.check()"
   ]
  },
  {
   "cell_type": "markdown",
   "id": "5311ba88",
   "metadata": {
    "papermill": {
     "duration": 0.003907,
     "end_time": "2025-02-24T11:01:10.631362",
     "exception": false,
     "start_time": "2025-02-24T11:01:10.627455",
     "status": "completed"
    },
    "tags": []
   },
   "source": [
    "# Question 3\n",
    "\n",
    "In this question, you will build off your work from the previous exercise to write a function that estimates the value of a house.\n",
    "\n",
    "Use the next code cell to create a function `get_expected_cost` that takes as input three variables:\n",
    "- `beds` - number of bedrooms (data type float)\n",
    "- `baths` - number of bathrooms (data type float)\n",
    "- `has_basement` - whether or not the house has a basement (data type boolean)\n",
    "\n",
    "It should return the expected cost of a house with those characteristics. Assume that:\n",
    "- the expected cost for a house with 0 bedrooms and 0 bathrooms, and no basement is 80000, \n",
    "- each bedroom adds 30000 to the expected cost,\n",
    "- each bathroom adds 10000 to the expected cost, and\n",
    "- a basement adds 40000 to the expected cost.\n",
    "\n",
    "For instance,\n",
    "- a house with 1 bedroom, 1 bathroom, and no basement has an expected cost of 80000 + 30000 + 10000 = 120000.  This value will be calculated with `get_expected_cost(1, 1, False)`.\n",
    "- a house with 2 bedrooms, 1 bathroom, and a basement has an expected cost of 80000 + 2*30000 + 10000 + 40000 = 190000.  This value will be calculated with `get_expected_cost(2, 1, True)`.\n",
    "\n",
    "Remember you can always get a hint by uncommenting `q3.hint()` in the code cell following the next!"
   ]
  },
  {
   "cell_type": "code",
   "execution_count": 7,
   "id": "8474c6bb",
   "metadata": {
    "execution": {
     "iopub.execute_input": "2025-02-24T11:01:10.640751Z",
     "iopub.status.busy": "2025-02-24T11:01:10.640391Z",
     "iopub.status.idle": "2025-02-24T11:01:10.646646Z",
     "shell.execute_reply": "2025-02-24T11:01:10.645884Z"
    },
    "papermill": {
     "duration": 0.012918,
     "end_time": "2025-02-24T11:01:10.648301",
     "exception": false,
     "start_time": "2025-02-24T11:01:10.635383",
     "status": "completed"
    },
    "tags": []
   },
   "outputs": [
    {
     "data": {
      "application/javascript": [
       "parent.postMessage({\"jupyterEvent\": \"custom.exercise_interaction\", \"data\": {\"outcomeType\": 1, \"valueTowardsCompletion\": 0.2, \"interactionType\": 1, \"questionType\": 2, \"questionId\": \"3_EstimateHouseValueBool\", \"learnToolsVersion\": \"0.3.4\", \"failureMessage\": \"\", \"exceptionClass\": \"\", \"trace\": \"\"}}, \"*\")"
      ],
      "text/plain": [
       "<IPython.core.display.Javascript object>"
      ]
     },
     "metadata": {},
     "output_type": "display_data"
    },
    {
     "data": {
      "text/markdown": [
       "<span style=\"color:#33cc33\">Correct</span>"
      ],
      "text/plain": [
       "Correct"
      ]
     },
     "metadata": {},
     "output_type": "display_data"
    }
   ],
   "source": [
    "# TODO: Complete the function\n",
    "def get_expected_cost(beds, baths, has_basement):\n",
    "    value = 80000 + 30000 * beds + 10000 * baths + 40000 * has_basement\n",
    "    return value\n",
    "\n",
    "# Check your answer \n",
    "q3.check()"
   ]
  },
  {
   "cell_type": "code",
   "execution_count": 8,
   "id": "a8c11e2b",
   "metadata": {
    "execution": {
     "iopub.execute_input": "2025-02-24T11:01:10.658821Z",
     "iopub.status.busy": "2025-02-24T11:01:10.658537Z",
     "iopub.status.idle": "2025-02-24T11:01:10.661544Z",
     "shell.execute_reply": "2025-02-24T11:01:10.660834Z"
    },
    "papermill": {
     "duration": 0.009086,
     "end_time": "2025-02-24T11:01:10.662674",
     "exception": false,
     "start_time": "2025-02-24T11:01:10.653588",
     "status": "completed"
    },
    "tags": []
   },
   "outputs": [],
   "source": [
    "# Uncomment to see a hint\n",
    "#q3.hint()\n",
    "\n",
    "# Uncomment to view the solution\n",
    "#q3.solution()"
   ]
  },
  {
   "cell_type": "markdown",
   "id": "80ecae25",
   "metadata": {
    "papermill": {
     "duration": 0.00392,
     "end_time": "2025-02-24T11:01:10.671079",
     "exception": false,
     "start_time": "2025-02-24T11:01:10.667159",
     "status": "completed"
    },
    "tags": []
   },
   "source": [
    "# Question 4\n",
    "\n",
    "We'll continue our study of boolean arithmetic.  For this question, your task is to provide a description of what happpens when you add booleans. \n",
    "\n",
    "Use the next code cell for your investigation.  Feel free to add or remove any lines of code - use it as your workspace!"
   ]
  },
  {
   "cell_type": "code",
   "execution_count": 9,
   "id": "d58d765c",
   "metadata": {
    "execution": {
     "iopub.execute_input": "2025-02-24T11:01:10.680809Z",
     "iopub.status.busy": "2025-02-24T11:01:10.680429Z",
     "iopub.status.idle": "2025-02-24T11:01:10.685506Z",
     "shell.execute_reply": "2025-02-24T11:01:10.684481Z"
    },
    "papermill": {
     "duration": 0.011353,
     "end_time": "2025-02-24T11:01:10.686618",
     "exception": false,
     "start_time": "2025-02-24T11:01:10.675265",
     "status": "completed"
    },
    "tags": []
   },
   "outputs": [
    {
     "name": "stdout",
     "output_type": "stream",
     "text": [
      "0\n",
      "1\n",
      "1\n",
      "2\n",
      "3\n"
     ]
    }
   ],
   "source": [
    "print(False + False)\n",
    "print(True + False)\n",
    "print(False + True)\n",
    "print(True + True)\n",
    "print(False + True + True + True)"
   ]
  },
  {
   "cell_type": "markdown",
   "id": "66092d0e",
   "metadata": {
    "papermill": {
     "duration": 0.003991,
     "end_time": "2025-02-24T11:01:10.695188",
     "exception": false,
     "start_time": "2025-02-24T11:01:10.691197",
     "status": "completed"
    },
    "tags": []
   },
   "source": [
    "Once you have an answer, run the code cell below to see the solution.  Viewing the solution will give you credit for answering the problem."
   ]
  },
  {
   "cell_type": "code",
   "execution_count": 10,
   "id": "0d47c9f3",
   "metadata": {
    "execution": {
     "iopub.execute_input": "2025-02-24T11:01:10.705256Z",
     "iopub.status.busy": "2025-02-24T11:01:10.704901Z",
     "iopub.status.idle": "2025-02-24T11:01:10.711295Z",
     "shell.execute_reply": "2025-02-24T11:01:10.710432Z"
    },
    "papermill": {
     "duration": 0.01286,
     "end_time": "2025-02-24T11:01:10.712627",
     "exception": false,
     "start_time": "2025-02-24T11:01:10.699767",
     "status": "completed"
    },
    "tags": []
   },
   "outputs": [
    {
     "data": {
      "application/javascript": [
       "parent.postMessage({\"jupyterEvent\": \"custom.exercise_interaction\", \"data\": {\"outcomeType\": 1, \"valueTowardsCompletion\": 0.2, \"interactionType\": 1, \"questionType\": 4, \"questionId\": \"4_AddingBooleans\", \"learnToolsVersion\": \"0.3.4\", \"failureMessage\": \"\", \"exceptionClass\": \"\", \"trace\": \"\"}}, \"*\")"
      ],
      "text/plain": [
       "<IPython.core.display.Javascript object>"
      ]
     },
     "metadata": {},
     "output_type": "display_data"
    },
    {
     "data": {
      "text/markdown": [
       "<span style=\"color:#33cc33\">Correct:</span> \n",
       "\n",
       "When you add booleans, adding `False` is equivalent to adding 0, and adding `True` is equivalent to adding 1."
      ],
      "text/plain": [
       "Correct: \n",
       "\n",
       "When you add booleans, adding `False` is equivalent to adding 0, and adding `True` is equivalent to adding 1."
      ]
     },
     "metadata": {},
     "output_type": "display_data"
    }
   ],
   "source": [
    "# Check your answer (Run this code cell to receive credit!)\n",
    "q4.check()"
   ]
  },
  {
   "cell_type": "markdown",
   "id": "8d0fb97a",
   "metadata": {
    "papermill": {
     "duration": 0.004282,
     "end_time": "2025-02-24T11:01:10.721857",
     "exception": false,
     "start_time": "2025-02-24T11:01:10.717575",
     "status": "completed"
    },
    "tags": []
   },
   "source": [
    "# 🌶️ Question 5\n",
    "\n",
    "You own an online shop where you sell rings with custom engravings.  You offer both gold plated and solid gold rings.\n",
    "- Gold plated rings have a base cost of \\\\$50, and you charge \\\\$7 per engraved unit.  \n",
    "- Solid gold rings have a base cost of \\\\$100, and you charge \\\\$10 per engraved unit.\n",
    "- Spaces and punctuation are counted as engraved units.\n",
    "\n",
    "Write a function `cost_of_project()` that takes two arguments:\n",
    "- `engraving` - a Python string with the text of the engraving\n",
    "- `solid_gold` - a Boolean that indicates whether the ring is solid gold\n",
    "\n",
    "It should return the cost of the project.  This question should be fairly challenging, and you may need a hint."
   ]
  },
  {
   "cell_type": "code",
   "execution_count": 11,
   "id": "acfa0352",
   "metadata": {
    "execution": {
     "iopub.execute_input": "2025-02-24T11:01:10.731811Z",
     "iopub.status.busy": "2025-02-24T11:01:10.731496Z",
     "iopub.status.idle": "2025-02-24T11:01:10.737853Z",
     "shell.execute_reply": "2025-02-24T11:01:10.736694Z"
    },
    "papermill": {
     "duration": 0.012807,
     "end_time": "2025-02-24T11:01:10.739088",
     "exception": false,
     "start_time": "2025-02-24T11:01:10.726281",
     "status": "completed"
    },
    "tags": []
   },
   "outputs": [
    {
     "data": {
      "application/javascript": [
       "parent.postMessage({\"jupyterEvent\": \"custom.exercise_interaction\", \"data\": {\"outcomeType\": 1, \"valueTowardsCompletion\": 0.2, \"interactionType\": 1, \"questionType\": 2, \"questionId\": \"5_CustomEngravings\", \"learnToolsVersion\": \"0.3.4\", \"failureMessage\": \"\", \"exceptionClass\": \"\", \"trace\": \"\"}}, \"*\")"
      ],
      "text/plain": [
       "<IPython.core.display.Javascript object>"
      ]
     },
     "metadata": {},
     "output_type": "display_data"
    },
    {
     "data": {
      "text/markdown": [
       "<span style=\"color:#33cc33\">Correct</span>"
      ],
      "text/plain": [
       "Correct"
      ]
     },
     "metadata": {},
     "output_type": "display_data"
    }
   ],
   "source": [
    "def cost_of_project(engraving, solid_gold):\n",
    "    cost = solid_gold * (100 + 10 * len(engraving)) + (not solid_gold) * (50 + 7 * len(engraving))\n",
    "    return cost\n",
    "\n",
    "# Check your answer\n",
    "q5.check()"
   ]
  },
  {
   "cell_type": "code",
   "execution_count": 12,
   "id": "5db3c50b",
   "metadata": {
    "execution": {
     "iopub.execute_input": "2025-02-24T11:01:10.749861Z",
     "iopub.status.busy": "2025-02-24T11:01:10.749569Z",
     "iopub.status.idle": "2025-02-24T11:01:10.753303Z",
     "shell.execute_reply": "2025-02-24T11:01:10.752072Z"
    },
    "papermill": {
     "duration": 0.010469,
     "end_time": "2025-02-24T11:01:10.754602",
     "exception": false,
     "start_time": "2025-02-24T11:01:10.744133",
     "status": "completed"
    },
    "tags": []
   },
   "outputs": [],
   "source": [
    "# Uncomment to see a hint\n",
    "#q5.hint()\n",
    "\n",
    "# Uncomment to view the solution\n",
    "#q5.solution()"
   ]
  },
  {
   "cell_type": "markdown",
   "id": "ee4d16f4",
   "metadata": {
    "papermill": {
     "duration": 0.004277,
     "end_time": "2025-02-24T11:01:10.763730",
     "exception": false,
     "start_time": "2025-02-24T11:01:10.759453",
     "status": "completed"
    },
    "tags": []
   },
   "source": [
    "Run the next code cell to calculate the cost of engraving `Charlie+Denver` on a solid gold ring."
   ]
  },
  {
   "cell_type": "code",
   "execution_count": 13,
   "id": "45b720be",
   "metadata": {
    "execution": {
     "iopub.execute_input": "2025-02-24T11:01:10.773615Z",
     "iopub.status.busy": "2025-02-24T11:01:10.773332Z",
     "iopub.status.idle": "2025-02-24T11:01:10.777366Z",
     "shell.execute_reply": "2025-02-24T11:01:10.776170Z"
    },
    "papermill": {
     "duration": 0.010924,
     "end_time": "2025-02-24T11:01:10.778998",
     "exception": false,
     "start_time": "2025-02-24T11:01:10.768074",
     "status": "completed"
    },
    "tags": []
   },
   "outputs": [
    {
     "name": "stdout",
     "output_type": "stream",
     "text": [
      "240\n"
     ]
    }
   ],
   "source": [
    "project_one = cost_of_project(\"Charlie+Denver\", True)\n",
    "print(project_one)"
   ]
  },
  {
   "cell_type": "markdown",
   "id": "383d9112",
   "metadata": {
    "papermill": {
     "duration": 0.004463,
     "end_time": "2025-02-24T11:01:10.788860",
     "exception": false,
     "start_time": "2025-02-24T11:01:10.784397",
     "status": "completed"
    },
    "tags": []
   },
   "source": [
    "Use the next code cell to calculate the cost of engraving `08/10/2000` on a gold plated ring."
   ]
  },
  {
   "cell_type": "code",
   "execution_count": 14,
   "id": "0eb1000f",
   "metadata": {
    "execution": {
     "iopub.execute_input": "2025-02-24T11:01:10.799792Z",
     "iopub.status.busy": "2025-02-24T11:01:10.799482Z",
     "iopub.status.idle": "2025-02-24T11:01:10.803804Z",
     "shell.execute_reply": "2025-02-24T11:01:10.802932Z"
    },
    "papermill": {
     "duration": 0.011553,
     "end_time": "2025-02-24T11:01:10.805029",
     "exception": false,
     "start_time": "2025-02-24T11:01:10.793476",
     "status": "completed"
    },
    "tags": []
   },
   "outputs": [
    {
     "name": "stdout",
     "output_type": "stream",
     "text": [
      "120\n"
     ]
    }
   ],
   "source": [
    "project_two = cost_of_project(\"08/10/2000\", False)\n",
    "print(project_two)"
   ]
  },
  {
   "cell_type": "markdown",
   "id": "90ccacbd",
   "metadata": {
    "papermill": {
     "duration": 0.004693,
     "end_time": "2025-02-24T11:01:10.815202",
     "exception": false,
     "start_time": "2025-02-24T11:01:10.810509",
     "status": "completed"
    },
    "tags": []
   },
   "source": [
    "# Keep going\n",
    "\n",
    "Continue to the next lesson to **[learn about conditions and conditional statements](https://www.kaggle.com/alexisbcook/conditions-and-conditional-statements)**."
   ]
  },
  {
   "cell_type": "markdown",
   "id": "9d9589a9",
   "metadata": {
    "papermill": {
     "duration": 0.004433,
     "end_time": "2025-02-24T11:01:10.824489",
     "exception": false,
     "start_time": "2025-02-24T11:01:10.820056",
     "status": "completed"
    },
    "tags": []
   },
   "source": [
    "---\n",
    "\n",
    "\n",
    "\n",
    "\n",
    "*Have questions or comments? Visit the [course discussion forum](https://www.kaggle.com/learn/intro-to-programming/discussion) to chat with other learners.*"
   ]
  }
 ],
 "metadata": {
  "kaggle": {
   "accelerator": "none",
   "dataSources": [],
   "isGpuEnabled": false,
   "isInternetEnabled": false,
   "language": "python",
   "sourceType": "notebook"
  },
  "kernelspec": {
   "display_name": "Python 3",
   "language": "python",
   "name": "python3"
  },
  "language_info": {
   "codemirror_mode": {
    "name": "ipython",
    "version": 3
   },
   "file_extension": ".py",
   "mimetype": "text/x-python",
   "name": "python",
   "nbconvert_exporter": "python",
   "pygments_lexer": "ipython3",
   "version": "3.10.12"
  },
  "papermill": {
   "default_parameters": {},
   "duration": 5.043182,
   "end_time": "2025-02-24T11:01:11.348917",
   "environment_variables": {},
   "exception": null,
   "input_path": "__notebook__.ipynb",
   "output_path": "__notebook__.ipynb",
   "parameters": {},
   "start_time": "2025-02-24T11:01:06.305735",
   "version": "2.3.3"
  }
 },
 "nbformat": 4,
 "nbformat_minor": 5
}
