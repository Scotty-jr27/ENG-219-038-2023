{
 "cells": [
  {
   "cell_type": "markdown",
   "id": "c4c3bda7",
   "metadata": {
    "papermill": {
     "duration": 0.004964,
     "end_time": "2025-02-24T11:37:24.176732",
     "exception": false,
     "start_time": "2025-02-24T11:37:24.171768",
     "status": "completed"
    },
    "tags": []
   },
   "source": [
    "**This notebook is an exercise in the [Intro to Programming](https://www.kaggle.com/learn/intro-to-programming) course.  You can reference the tutorial at [this link](https://www.kaggle.com/alexisbcook/intro-to-lists).**\n",
    "\n",
    "---\n"
   ]
  },
  {
   "cell_type": "markdown",
   "id": "cb318823",
   "metadata": {
    "papermill": {
     "duration": 0.003376,
     "end_time": "2025-02-24T11:37:24.183965",
     "exception": false,
     "start_time": "2025-02-24T11:37:24.180589",
     "status": "completed"
    },
    "tags": []
   },
   "source": [
    "In the tutorial, you learned how to define and modify Python lists.  In this exercise, you will use your new knowledge to solve several problems.\n",
    "\n",
    "# Set up the notebook\n",
    "\n",
    "Run the next code cell without changes to set up the notebook."
   ]
  },
  {
   "cell_type": "code",
   "execution_count": 1,
   "id": "09a46c17",
   "metadata": {
    "execution": {
     "iopub.execute_input": "2025-02-24T11:37:24.193951Z",
     "iopub.status.busy": "2025-02-24T11:37:24.193593Z",
     "iopub.status.idle": "2025-02-24T11:37:25.782338Z",
     "shell.execute_reply": "2025-02-24T11:37:25.780930Z"
    },
    "papermill": {
     "duration": 1.596553,
     "end_time": "2025-02-24T11:37:25.784113",
     "exception": false,
     "start_time": "2025-02-24T11:37:24.187560",
     "status": "completed"
    },
    "tags": []
   },
   "outputs": [
    {
     "name": "stdout",
     "output_type": "stream",
     "text": [
      "Setup complete.\n"
     ]
    }
   ],
   "source": [
    "from learntools.core import binder\n",
    "binder.bind(globals())\n",
    "from learntools.intro_to_programming.ex5 import *\n",
    "print('Setup complete.')"
   ]
  },
  {
   "cell_type": "markdown",
   "id": "fb18dd61",
   "metadata": {
    "papermill": {
     "duration": 0.003665,
     "end_time": "2025-02-24T11:37:25.792409",
     "exception": false,
     "start_time": "2025-02-24T11:37:25.788744",
     "status": "completed"
    },
    "tags": []
   },
   "source": [
    "# Question 1\n",
    "\n",
    "You own a restaurant with five food dishes, organized in the Python list `menu` below.  One day, you decide to:\n",
    "- remove bean soup (`'bean soup'`) from the menu, and\n",
    "- add roasted beet salad (`'roasted beet salad'`) to the menu.\n",
    "\n",
    "Implement this change to the list below.  While completing this task, \n",
    "- do not change the line that creates the `menu` list.  \n",
    "- your answer should use `.remove()` and `.append()`.  "
   ]
  },
  {
   "cell_type": "code",
   "execution_count": 2,
   "id": "c7371077",
   "metadata": {
    "execution": {
     "iopub.execute_input": "2025-02-24T11:37:25.802268Z",
     "iopub.status.busy": "2025-02-24T11:37:25.801715Z",
     "iopub.status.idle": "2025-02-24T11:37:25.810977Z",
     "shell.execute_reply": "2025-02-24T11:37:25.809581Z"
    },
    "papermill": {
     "duration": 0.01574,
     "end_time": "2025-02-24T11:37:25.812343",
     "exception": false,
     "start_time": "2025-02-24T11:37:25.796603",
     "status": "completed"
    },
    "tags": []
   },
   "outputs": [
    {
     "data": {
      "application/javascript": [
       "parent.postMessage({\"jupyterEvent\": \"custom.exercise_interaction\", \"data\": {\"outcomeType\": 1, \"valueTowardsCompletion\": 0.2, \"interactionType\": 1, \"questionType\": 2, \"questionId\": \"1_FoodMenu\", \"learnToolsVersion\": \"0.3.4\", \"failureMessage\": \"\", \"exceptionClass\": \"\", \"trace\": \"\"}}, \"*\")"
      ],
      "text/plain": [
       "<IPython.core.display.Javascript object>"
      ]
     },
     "metadata": {},
     "output_type": "display_data"
    },
    {
     "data": {
      "text/markdown": [
       "<span style=\"color:#33cc33\">Correct</span>"
      ],
      "text/plain": [
       "Correct"
      ]
     },
     "metadata": {},
     "output_type": "display_data"
    }
   ],
   "source": [
    "# Do not change: Initial menu for your restaurant\n",
    "menu = ['stewed meat with onions', 'bean soup', 'risotto with trout and shrimp',\n",
    "       'fish soup with cream and onion', 'gyro']\n",
    "\n",
    "# TODO: remove 'bean soup', and add 'roasted beet salad' to the end of the menu\n",
    "menu.remove('bean soup')\n",
    "menu.append('roasted beet salad')\n",
    "\n",
    "# Do not change: Check your answer\n",
    "q1.check()"
   ]
  },
  {
   "cell_type": "code",
   "execution_count": 3,
   "id": "c65f1747",
   "metadata": {
    "execution": {
     "iopub.execute_input": "2025-02-24T11:37:25.822943Z",
     "iopub.status.busy": "2025-02-24T11:37:25.822581Z",
     "iopub.status.idle": "2025-02-24T11:37:25.825921Z",
     "shell.execute_reply": "2025-02-24T11:37:25.825162Z"
    },
    "papermill": {
     "duration": 0.010936,
     "end_time": "2025-02-24T11:37:25.828041",
     "exception": false,
     "start_time": "2025-02-24T11:37:25.817105",
     "status": "completed"
    },
    "tags": []
   },
   "outputs": [],
   "source": [
    "# Uncomment to see a hint\n",
    "#q1.hint()\n",
    "\n",
    "# Uncomment to see the solution\n",
    "#q1.solution()"
   ]
  },
  {
   "cell_type": "markdown",
   "id": "c2e32b74",
   "metadata": {
    "papermill": {
     "duration": 0.003848,
     "end_time": "2025-02-24T11:37:25.836951",
     "exception": false,
     "start_time": "2025-02-24T11:37:25.833103",
     "status": "completed"
    },
    "tags": []
   },
   "source": [
    "# Question 2\n",
    "\n",
    "The list `num_customers` contains the number of customers who came into your restaurant every day over the last month (which lasted thirty days).  Fill in values for each of the following:\n",
    "- `avg_first_seven` - average number of customers who visited in the first seven days\n",
    "- `avg_last_seven` - average number of customers who visited in the last seven days\n",
    "- `max_month` - number of customers on the day that got the most customers in the last month\n",
    "- `min_month` - number of customers on the day that got the least customers in the last month\n",
    "\n",
    "Answer this question by writing code.  For instance, if you have to find the minimum value in a list, use `min()` instead of scanning for the smallest value and directly filling in a number."
   ]
  },
  {
   "cell_type": "code",
   "execution_count": 4,
   "id": "0d07a119",
   "metadata": {
    "execution": {
     "iopub.execute_input": "2025-02-24T11:37:25.846016Z",
     "iopub.status.busy": "2025-02-24T11:37:25.845664Z",
     "iopub.status.idle": "2025-02-24T11:37:25.855111Z",
     "shell.execute_reply": "2025-02-24T11:37:25.854026Z"
    },
    "papermill": {
     "duration": 0.015654,
     "end_time": "2025-02-24T11:37:25.856494",
     "exception": false,
     "start_time": "2025-02-24T11:37:25.840840",
     "status": "completed"
    },
    "tags": []
   },
   "outputs": [
    {
     "data": {
      "application/javascript": [
       "parent.postMessage({\"jupyterEvent\": \"custom.exercise_interaction\", \"data\": {\"outcomeType\": 1, \"valueTowardsCompletion\": 0.2, \"interactionType\": 1, \"questionType\": 1, \"questionId\": \"2_NumCustomers\", \"learnToolsVersion\": \"0.3.4\", \"failureMessage\": \"\", \"exceptionClass\": \"\", \"trace\": \"\"}}, \"*\")"
      ],
      "text/plain": [
       "<IPython.core.display.Javascript object>"
      ]
     },
     "metadata": {},
     "output_type": "display_data"
    },
    {
     "data": {
      "text/markdown": [
       "<span style=\"color:#33cc33\">Correct</span>"
      ],
      "text/plain": [
       "Correct"
      ]
     },
     "metadata": {},
     "output_type": "display_data"
    }
   ],
   "source": [
    "# Do not change: Number of customers each day for the last month\n",
    "num_customers = [137, 147, 135, 128, 170, 174, 165, 146, 126, 159,\n",
    "                 141, 148, 132, 147, 168, 153, 170, 161, 148, 152,\n",
    "                 141, 151, 131, 149, 164, 163, 143, 143, 166, 171]\n",
    "\n",
    "# TODO: Fill in values for the variables below\n",
    "avg_first_seven = sum(num_customers[:7])/7\n",
    "avg_last_seven = sum(num_customers[-7:])/7 \n",
    "max_month = max(num_customers)\n",
    "min_month = min(num_customers)\n",
    "\n",
    "# Do not change: Check your answer\n",
    "q2.check()"
   ]
  },
  {
   "cell_type": "code",
   "execution_count": 5,
   "id": "66ecd6c0",
   "metadata": {
    "execution": {
     "iopub.execute_input": "2025-02-24T11:37:25.866433Z",
     "iopub.status.busy": "2025-02-24T11:37:25.866042Z",
     "iopub.status.idle": "2025-02-24T11:37:25.869752Z",
     "shell.execute_reply": "2025-02-24T11:37:25.868768Z"
    },
    "papermill": {
     "duration": 0.009984,
     "end_time": "2025-02-24T11:37:25.871126",
     "exception": false,
     "start_time": "2025-02-24T11:37:25.861142",
     "status": "completed"
    },
    "tags": []
   },
   "outputs": [],
   "source": [
    "# Uncomment to see a hint\n",
    "#q2.hint()\n",
    "\n",
    "# Uncomment to see the solution\n",
    "#q2.solution()"
   ]
  },
  {
   "cell_type": "markdown",
   "id": "d195e5e0",
   "metadata": {
    "papermill": {
     "duration": 0.005103,
     "end_time": "2025-02-24T11:37:25.881793",
     "exception": false,
     "start_time": "2025-02-24T11:37:25.876690",
     "status": "completed"
    },
    "tags": []
   },
   "source": [
    "# Question 3\n",
    "\n",
    "In the tutorial, we gave an example of a Python string with information that was better as a list."
   ]
  },
  {
   "cell_type": "code",
   "execution_count": 6,
   "id": "37616736",
   "metadata": {
    "execution": {
     "iopub.execute_input": "2025-02-24T11:37:25.893435Z",
     "iopub.status.busy": "2025-02-24T11:37:25.893027Z",
     "iopub.status.idle": "2025-02-24T11:37:25.898002Z",
     "shell.execute_reply": "2025-02-24T11:37:25.896501Z"
    },
    "papermill": {
     "duration": 0.012626,
     "end_time": "2025-02-24T11:37:25.899934",
     "exception": false,
     "start_time": "2025-02-24T11:37:25.887308",
     "status": "completed"
    },
    "tags": []
   },
   "outputs": [],
   "source": [
    "flowers = \"pink primrose,hard-leaved pocket orchid,canterbury bells,sweet pea,english marigold,tiger lily,moon orchid,bird of paradise,monkshood,globe thistle\""
   ]
  },
  {
   "cell_type": "markdown",
   "id": "30cd8d26",
   "metadata": {
    "papermill": {
     "duration": 0.005481,
     "end_time": "2025-02-24T11:37:25.910241",
     "exception": false,
     "start_time": "2025-02-24T11:37:25.904760",
     "status": "completed"
    },
    "tags": []
   },
   "source": [
    "You can actually use Python to quickly turn this string into a list with `.split()`.  In the parentheses, we need to provide the character should be used to mark the end of one list item and the beginning of another, and enclose it in quotation marks.  In this case, that character is a comma."
   ]
  },
  {
   "cell_type": "code",
   "execution_count": 7,
   "id": "934614ae",
   "metadata": {
    "execution": {
     "iopub.execute_input": "2025-02-24T11:37:25.919893Z",
     "iopub.status.busy": "2025-02-24T11:37:25.919516Z",
     "iopub.status.idle": "2025-02-24T11:37:25.924853Z",
     "shell.execute_reply": "2025-02-24T11:37:25.923576Z"
    },
    "papermill": {
     "duration": 0.012259,
     "end_time": "2025-02-24T11:37:25.926633",
     "exception": false,
     "start_time": "2025-02-24T11:37:25.914374",
     "status": "completed"
    },
    "tags": []
   },
   "outputs": [
    {
     "name": "stdout",
     "output_type": "stream",
     "text": [
      "['pink primrose', 'hard-leaved pocket orchid', 'canterbury bells', 'sweet pea', 'english marigold', 'tiger lily', 'moon orchid', 'bird of paradise', 'monkshood', 'globe thistle']\n"
     ]
    }
   ],
   "source": [
    " print(flowers.split(\",\"))"
   ]
  },
  {
   "cell_type": "markdown",
   "id": "61651779",
   "metadata": {
    "papermill": {
     "duration": 0.00393,
     "end_time": "2025-02-24T11:37:25.935498",
     "exception": false,
     "start_time": "2025-02-24T11:37:25.931568",
     "status": "completed"
    },
    "tags": []
   },
   "source": [
    "Now it is your turn to try this out!  Create two Python lists:\n",
    "- `letters` should be a Python list where each entry is an uppercase letter of the English alphabet.  For instance, the first two entries should be `\"A\"` and `\"B\"`, and the final two entries should be `\"Y\"` and `\"Z\"`.  Use the string `alphabet` to create this list.\n",
    "- `address` should be a Python list where each row in `address` is a different item in the list.  Currently, each row in `address` is separated by a comma. "
   ]
  },
  {
   "cell_type": "code",
   "execution_count": 8,
   "id": "ab980263",
   "metadata": {
    "execution": {
     "iopub.execute_input": "2025-02-24T11:37:25.945038Z",
     "iopub.status.busy": "2025-02-24T11:37:25.944691Z",
     "iopub.status.idle": "2025-02-24T11:37:25.953044Z",
     "shell.execute_reply": "2025-02-24T11:37:25.951707Z"
    },
    "papermill": {
     "duration": 0.015371,
     "end_time": "2025-02-24T11:37:25.954957",
     "exception": false,
     "start_time": "2025-02-24T11:37:25.939586",
     "status": "completed"
    },
    "tags": []
   },
   "outputs": [
    {
     "data": {
      "application/javascript": [
       "parent.postMessage({\"jupyterEvent\": \"custom.exercise_interaction\", \"data\": {\"outcomeType\": 1, \"valueTowardsCompletion\": 0.2, \"interactionType\": 1, \"questionType\": 1, \"questionId\": \"3_SplitString\", \"learnToolsVersion\": \"0.3.4\", \"failureMessage\": \"\", \"exceptionClass\": \"\", \"trace\": \"\"}}, \"*\")"
      ],
      "text/plain": [
       "<IPython.core.display.Javascript object>"
      ]
     },
     "metadata": {},
     "output_type": "display_data"
    },
    {
     "data": {
      "text/markdown": [
       "<span style=\"color:#33cc33\">Correct</span>"
      ],
      "text/plain": [
       "Correct"
      ]
     },
     "metadata": {},
     "output_type": "display_data"
    }
   ],
   "source": [
    "# DO not change: Define two Python strings\n",
    "alphabet = \"A.B.C.D.E.F.G.H.I.J.K.L.M.N.O.P.Q.R.S.T.U.V.W.X.Y.Z\"\n",
    "address = \"Mr. H. Potter,The cupboard under the Stairs,4 Privet Drive,Little Whinging,Surrey\"\n",
    "\n",
    "# TODO: Convert strings into Python lists\n",
    "letters = alphabet.split(\".\")\n",
    "formatted_address =  address.split(\",\")\n",
    "\n",
    "# Do not change: Check your answer\n",
    "q3.check()"
   ]
  },
  {
   "cell_type": "code",
   "execution_count": 9,
   "id": "216b463d",
   "metadata": {
    "execution": {
     "iopub.execute_input": "2025-02-24T11:37:25.965797Z",
     "iopub.status.busy": "2025-02-24T11:37:25.965467Z",
     "iopub.status.idle": "2025-02-24T11:37:25.969158Z",
     "shell.execute_reply": "2025-02-24T11:37:25.968231Z"
    },
    "papermill": {
     "duration": 0.010832,
     "end_time": "2025-02-24T11:37:25.970975",
     "exception": false,
     "start_time": "2025-02-24T11:37:25.960143",
     "status": "completed"
    },
    "tags": []
   },
   "outputs": [],
   "source": [
    "# Uncomment to see a hint\n",
    "#q3.hint()\n",
    "\n",
    "# Uncomment to see the solution\n",
    "#q3.solution()"
   ]
  },
  {
   "cell_type": "markdown",
   "id": "85485058",
   "metadata": {
    "papermill": {
     "duration": 0.004251,
     "end_time": "2025-02-24T11:37:25.980990",
     "exception": false,
     "start_time": "2025-02-24T11:37:25.976739",
     "status": "completed"
    },
    "tags": []
   },
   "source": [
    "# Question 4\n",
    "\n",
    "In the Python course, you'll learn all about **list comprehensions**, which allow you to create a list based on the values in another list.  In this question, you'll get a brief preview of how they work.\n",
    "\n",
    "Say we're working with the list below."
   ]
  },
  {
   "cell_type": "code",
   "execution_count": 10,
   "id": "141f3300",
   "metadata": {
    "execution": {
     "iopub.execute_input": "2025-02-24T11:37:25.990829Z",
     "iopub.status.busy": "2025-02-24T11:37:25.990508Z",
     "iopub.status.idle": "2025-02-24T11:37:25.994923Z",
     "shell.execute_reply": "2025-02-24T11:37:25.993892Z"
    },
    "papermill": {
     "duration": 0.011563,
     "end_time": "2025-02-24T11:37:25.996821",
     "exception": false,
     "start_time": "2025-02-24T11:37:25.985258",
     "status": "completed"
    },
    "tags": []
   },
   "outputs": [],
   "source": [
    "test_ratings = [1, 2, 3, 4, 5]"
   ]
  },
  {
   "cell_type": "markdown",
   "id": "ac43dfcb",
   "metadata": {
    "papermill": {
     "duration": 0.004813,
     "end_time": "2025-02-24T11:37:26.007759",
     "exception": false,
     "start_time": "2025-02-24T11:37:26.002946",
     "status": "completed"
    },
    "tags": []
   },
   "source": [
    "Then we can use this list (`test_ratings`) to create a new list (`test_liked`) where each item has been turned into a boolean, depending on whether or not the item is greater than or equal to four."
   ]
  },
  {
   "cell_type": "code",
   "execution_count": 11,
   "id": "0b0aab7f",
   "metadata": {
    "execution": {
     "iopub.execute_input": "2025-02-24T11:37:26.018280Z",
     "iopub.status.busy": "2025-02-24T11:37:26.017877Z",
     "iopub.status.idle": "2025-02-24T11:37:26.023213Z",
     "shell.execute_reply": "2025-02-24T11:37:26.021828Z"
    },
    "papermill": {
     "duration": 0.012854,
     "end_time": "2025-02-24T11:37:26.025282",
     "exception": false,
     "start_time": "2025-02-24T11:37:26.012428",
     "status": "completed"
    },
    "tags": []
   },
   "outputs": [
    {
     "name": "stdout",
     "output_type": "stream",
     "text": [
      "[False, False, False, True, True]\n"
     ]
    }
   ],
   "source": [
    "test_liked = [i>=4 for i in test_ratings]\n",
    "print(test_liked)"
   ]
  },
  {
   "cell_type": "markdown",
   "id": "5d4a1335",
   "metadata": {
    "papermill": {
     "duration": 0.004394,
     "end_time": "2025-02-24T11:37:26.035219",
     "exception": false,
     "start_time": "2025-02-24T11:37:26.030825",
     "status": "completed"
    },
    "tags": []
   },
   "source": [
    "In this question, you'll use this list comprehension to define a function `percentage_liked()` that takes one argument as input:\n",
    "- `ratings`: list of ratings that people gave to a movie, where each rating is a number between 1-5, inclusive\n",
    "\n",
    "We say someone liked the movie, if they gave a rating of either 4 or 5.  Your function should return the percentage of people who liked the movie.\n",
    "\n",
    "For instance, if we supply a value of `[1, 2, 3, 4, 5, 4, 5, 1]`, then 50% (4/8) of the people liked the movie, and the function should return `0.5`.\n",
    "\n",
    "Part of the function has already been completed for you.  You need only use `list_liked` to calculate `percentage_liked`."
   ]
  },
  {
   "cell_type": "code",
   "execution_count": 12,
   "id": "2b80bcdd",
   "metadata": {
    "execution": {
     "iopub.execute_input": "2025-02-24T11:37:26.045454Z",
     "iopub.status.busy": "2025-02-24T11:37:26.045086Z",
     "iopub.status.idle": "2025-02-24T11:37:26.053023Z",
     "shell.execute_reply": "2025-02-24T11:37:26.052082Z"
    },
    "papermill": {
     "duration": 0.015179,
     "end_time": "2025-02-24T11:37:26.055022",
     "exception": false,
     "start_time": "2025-02-24T11:37:26.039843",
     "status": "completed"
    },
    "tags": []
   },
   "outputs": [
    {
     "data": {
      "application/javascript": [
       "parent.postMessage({\"jupyterEvent\": \"custom.exercise_interaction\", \"data\": {\"outcomeType\": 1, \"valueTowardsCompletion\": 0.2, \"interactionType\": 1, \"questionType\": 2, \"questionId\": \"4_PercentageLiked\", \"learnToolsVersion\": \"0.3.4\", \"failureMessage\": \"\", \"exceptionClass\": \"\", \"trace\": \"\"}}, \"*\")"
      ],
      "text/plain": [
       "<IPython.core.display.Javascript object>"
      ]
     },
     "metadata": {},
     "output_type": "display_data"
    },
    {
     "data": {
      "text/markdown": [
       "<span style=\"color:#33cc33\">Correct</span>"
      ],
      "text/plain": [
       "Correct"
      ]
     },
     "metadata": {},
     "output_type": "display_data"
    }
   ],
   "source": [
    "\n",
    "def percentage_liked(ratings):\n",
    "    list_liked = [i>=4 for i in ratings]\n",
    "    # TODO: Complete the function\n",
    "    list_liked = [i >= 4 for i in ratings]\n",
    "    percentage_liked = sum(list_liked)/len(list_liked)\n",
    "    return percentage_liked\n",
    "\n",
    "# Do not change: should return 0.5\n",
    "percentage_liked([1, 2, 3, 4, 5, 4, 5, 1])\n",
    "\n",
    "# Do not change: Check your answer\n",
    "q4.check()"
   ]
  },
  {
   "cell_type": "code",
   "execution_count": 13,
   "id": "05c53ccc",
   "metadata": {
    "execution": {
     "iopub.execute_input": "2025-02-24T11:37:26.066308Z",
     "iopub.status.busy": "2025-02-24T11:37:26.065905Z",
     "iopub.status.idle": "2025-02-24T11:37:26.070667Z",
     "shell.execute_reply": "2025-02-24T11:37:26.069107Z"
    },
    "papermill": {
     "duration": 0.012261,
     "end_time": "2025-02-24T11:37:26.072719",
     "exception": false,
     "start_time": "2025-02-24T11:37:26.060458",
     "status": "completed"
    },
    "tags": []
   },
   "outputs": [],
   "source": [
    "# Uncomment to see a hint\n",
    "#q4.hint()\n",
    "\n",
    "# Uncomment to see the solution\n",
    "#q4.solution()"
   ]
  },
  {
   "cell_type": "markdown",
   "id": "f60688f6",
   "metadata": {
    "papermill": {
     "duration": 0.004386,
     "end_time": "2025-02-24T11:37:26.082462",
     "exception": false,
     "start_time": "2025-02-24T11:37:26.078076",
     "status": "completed"
    },
    "tags": []
   },
   "source": [
    "# 🌶️ Question 5\n",
    " \n",
    "Say you're doing analytics for a website.  You need to write a function that returns the percentage growth in the total number of users relative to a specified number of years ago.\n",
    "\n",
    "Your function `percentage_growth()` should take two arguments as input:\n",
    "- `num_users` = Python list with the total number of users each year.  So `num_users[0]` is the total number of users in the first year, `num_users[1]` is the total number of users in the second year, and so on.  The final entry in the list gives the total number of users in the most recently completed year.\n",
    "- `yrs_ago` = number of years to go back in time when calculating the growth percentage\n",
    "\n",
    "For instance, say `num_users = [920344, 1043553, 1204334, 1458996, 1503323, 1593432, 1623463, 1843064, 1930992, 2001078]`.\n",
    "- if `yrs_ago = 1`, we want the function to return a value of about `0.036`. This corresponds to a percentage growth of approximately 3.6%, calculated as (2001078 - 1930992)/1930992.\n",
    "- if `years_ago = 7`, we would want to return approximately `0.66`.  This corresponds to a percentage growth of approximately 66%, calculated as (2001078 - 1204334)/1204334.\n",
    "\n",
    "Your coworker sent you a draft of a function, but it doesn't seem to be doing the correct calculation.  Can you figure out what has gone wrong and make the needed changes?"
   ]
  },
  {
   "cell_type": "code",
   "execution_count": 14,
   "id": "44fa73a6",
   "metadata": {
    "execution": {
     "iopub.execute_input": "2025-02-24T11:37:26.092485Z",
     "iopub.status.busy": "2025-02-24T11:37:26.092141Z",
     "iopub.status.idle": "2025-02-24T11:37:26.101200Z",
     "shell.execute_reply": "2025-02-24T11:37:26.099907Z"
    },
    "papermill": {
     "duration": 0.015898,
     "end_time": "2025-02-24T11:37:26.102748",
     "exception": false,
     "start_time": "2025-02-24T11:37:26.086850",
     "status": "completed"
    },
    "tags": []
   },
   "outputs": [
    {
     "name": "stdout",
     "output_type": "stream",
     "text": [
      "0.03629533421163837\n",
      "0.6615639847417742\n"
     ]
    },
    {
     "data": {
      "application/javascript": [
       "parent.postMessage({\"jupyterEvent\": \"custom.exercise_interaction\", \"data\": {\"outcomeType\": 1, \"valueTowardsCompletion\": 0.2, \"interactionType\": 1, \"questionType\": 2, \"questionId\": \"5_WebsiteAnalytics\", \"learnToolsVersion\": \"0.3.4\", \"failureMessage\": \"\", \"exceptionClass\": \"\", \"trace\": \"\"}}, \"*\")"
      ],
      "text/plain": [
       "<IPython.core.display.Javascript object>"
      ]
     },
     "metadata": {},
     "output_type": "display_data"
    },
    {
     "data": {
      "text/markdown": [
       "<span style=\"color:#33cc33\">Correct</span>"
      ],
      "text/plain": [
       "Correct"
      ]
     },
     "metadata": {},
     "output_type": "display_data"
    }
   ],
   "source": [
    "# TODO: Edit the function\n",
    "def percentage_growth(num_users, yrs_ago):\n",
    "    growth = (num_users[len(num_users)-1] - num_users[len(num_users)-yrs_ago-1])/num_users[len(num_users)-yrs_ago-1]\n",
    "    return growth\n",
    "\n",
    "# Do not change: Variable for calculating some test examples\n",
    "num_users_test = [920344, 1043553, 1204334, 1458996, 1503323, 1593432, 1623463, 1843064, 1930992, 2001078]\n",
    "\n",
    "# Do not change: Should return .036\n",
    "print(percentage_growth(num_users_test, 1))\n",
    "\n",
    "# Do not change: Should return 0.66\n",
    "print(percentage_growth(num_users_test, 7))\n",
    "\n",
    "# Do not change: Check your answer\n",
    "q5.check()"
   ]
  },
  {
   "cell_type": "code",
   "execution_count": 15,
   "id": "2b879ba1",
   "metadata": {
    "execution": {
     "iopub.execute_input": "2025-02-24T11:37:26.114676Z",
     "iopub.status.busy": "2025-02-24T11:37:26.114291Z",
     "iopub.status.idle": "2025-02-24T11:37:26.119197Z",
     "shell.execute_reply": "2025-02-24T11:37:26.117366Z"
    },
    "papermill": {
     "duration": 0.013018,
     "end_time": "2025-02-24T11:37:26.121290",
     "exception": false,
     "start_time": "2025-02-24T11:37:26.108272",
     "status": "completed"
    },
    "tags": []
   },
   "outputs": [],
   "source": [
    "# Uncomment to see a hint\n",
    "#q5.hint()\n",
    "\n",
    "# Uncomment to see the solution\n",
    "#q5.solution()"
   ]
  },
  {
   "cell_type": "markdown",
   "id": "a6154b7b",
   "metadata": {
    "papermill": {
     "duration": 0.005111,
     "end_time": "2025-02-24T11:37:26.132956",
     "exception": false,
     "start_time": "2025-02-24T11:37:26.127845",
     "status": "completed"
    },
    "tags": []
   },
   "source": [
    "# Congratulations!\n",
    "\n",
    "Congratulations for finishing the Intro to Programming course!  You should be proud of your very first steps with learning programming.  As next steps, we recommend taking:\n",
    "- the **[Python course](http://www.kaggle.com/learn/python)**, and \n",
    "- the **[Intro to Machine Learning course](https://www.kaggle.com/learn/intro-to-machine-learning)**."
   ]
  },
  {
   "cell_type": "markdown",
   "id": "ee45bff9",
   "metadata": {
    "papermill": {
     "duration": 0.00435,
     "end_time": "2025-02-24T11:37:26.142075",
     "exception": false,
     "start_time": "2025-02-24T11:37:26.137725",
     "status": "completed"
    },
    "tags": []
   },
   "source": [
    "---\n",
    "\n",
    "\n",
    "\n",
    "\n",
    "*Have questions or comments? Visit the [course discussion forum](https://www.kaggle.com/learn/intro-to-programming/discussion) to chat with other learners.*"
   ]
  }
 ],
 "metadata": {
  "kaggle": {
   "accelerator": "none",
   "dataSources": [],
   "isGpuEnabled": false,
   "isInternetEnabled": false,
   "language": "python",
   "sourceType": "notebook"
  },
  "kernelspec": {
   "display_name": "Python 3",
   "language": "python",
   "name": "python3"
  },
  "language_info": {
   "codemirror_mode": {
    "name": "ipython",
    "version": 3
   },
   "file_extension": ".py",
   "mimetype": "text/x-python",
   "name": "python",
   "nbconvert_exporter": "python",
   "pygments_lexer": "ipython3",
   "version": "3.10.12"
  },
  "papermill": {
   "default_parameters": {},
   "duration": 5.428977,
   "end_time": "2025-02-24T11:37:26.768395",
   "environment_variables": {},
   "exception": null,
   "input_path": "__notebook__.ipynb",
   "output_path": "__notebook__.ipynb",
   "parameters": {},
   "start_time": "2025-02-24T11:37:21.339418",
   "version": "2.6.0"
  }
 },
 "nbformat": 4,
 "nbformat_minor": 5
}
