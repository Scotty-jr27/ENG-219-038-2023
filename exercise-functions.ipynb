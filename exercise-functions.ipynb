{
 "cells": [
  {
   "cell_type": "markdown",
   "id": "a197b88f",
   "metadata": {
    "papermill": {
     "duration": 0.005628,
     "end_time": "2025-02-24T10:38:04.278265",
     "exception": false,
     "start_time": "2025-02-24T10:38:04.272637",
     "status": "completed"
    },
    "tags": []
   },
   "source": [
    "**This notebook is an exercise in the [Intro to Programming](https://www.kaggle.com/learn/intro-to-programming) course.  You can reference the tutorial at [this link](https://www.kaggle.com/alexisbcook/functions).**\n",
    "\n",
    "---\n"
   ]
  },
  {
   "cell_type": "markdown",
   "id": "df0d40b0",
   "metadata": {
    "papermill": {
     "duration": 0.004735,
     "end_time": "2025-02-24T10:38:04.288057",
     "exception": false,
     "start_time": "2025-02-24T10:38:04.283322",
     "status": "completed"
    },
    "tags": []
   },
   "source": [
    "In the tutorial, you learned about functions. In this exercise, you'll write some of your own!\n",
    "\n",
    "# Set up the notebook\n",
    "\n",
    "Run the next code cell without changes to set up the notebook."
   ]
  },
  {
   "cell_type": "code",
   "execution_count": 1,
   "id": "c390ee15",
   "metadata": {
    "execution": {
     "iopub.execute_input": "2025-02-24T10:38:04.299589Z",
     "iopub.status.busy": "2025-02-24T10:38:04.299113Z",
     "iopub.status.idle": "2025-02-24T10:38:05.729678Z",
     "shell.execute_reply": "2025-02-24T10:38:05.728450Z"
    },
    "papermill": {
     "duration": 1.438556,
     "end_time": "2025-02-24T10:38:05.731526",
     "exception": false,
     "start_time": "2025-02-24T10:38:04.292970",
     "status": "completed"
    },
    "tags": []
   },
   "outputs": [
    {
     "name": "stdout",
     "output_type": "stream",
     "text": [
      "Setup complete.\n"
     ]
    }
   ],
   "source": [
    "# Set up the exercise\n",
    "import math\n",
    "from learntools.core import binder\n",
    "binder.bind(globals())\n",
    "from learntools.intro_to_programming.ex2 import *\n",
    "print('Setup complete.')"
   ]
  },
  {
   "cell_type": "markdown",
   "id": "987733d0",
   "metadata": {
    "papermill": {
     "duration": 0.005074,
     "end_time": "2025-02-24T10:38:05.742378",
     "exception": false,
     "start_time": "2025-02-24T10:38:05.737304",
     "status": "completed"
    },
    "tags": []
   },
   "source": [
    "# Question 1\n",
    "\n",
    "In the [House Prices - Advanced Regression Techniques competition](https://www.kaggle.com/c/house-prices-advanced-regression-techniques/overview), you need to use information like the number of bedrooms and bathrooms to predict the price of a house.  Inspired by this competition, you'll write your own function to do this.\n",
    "\n",
    "In the next code cell, create a function `get_expected_cost()` that has two arguments:\n",
    "- `beds` - number of bedrooms \n",
    "- `baths` - number of bathrooms\n",
    "\n",
    "It should return the expected cost of a house with that number of bedrooms and bathrooms.  Assume that:\n",
    "- the expected cost for a house with 0 bedrooms and 0 bathrooms is `80000`.  \n",
    "- each bedroom adds `30000` to the expected cost\n",
    "- each bathroom adds `10000` to the expected cost.\n",
    "\n",
    "For instance, \n",
    "- a house with 1 bedroom and 1 bathroom has an expected cost of `120000`, and \n",
    "- a house with 2 bedrooms and 1 bathroom has an expected cost of `150000`."
   ]
  },
  {
   "cell_type": "code",
   "execution_count": 2,
   "id": "428e719e",
   "metadata": {
    "execution": {
     "iopub.execute_input": "2025-02-24T10:38:05.753833Z",
     "iopub.status.busy": "2025-02-24T10:38:05.753345Z",
     "iopub.status.idle": "2025-02-24T10:38:05.763437Z",
     "shell.execute_reply": "2025-02-24T10:38:05.761819Z"
    },
    "papermill": {
     "duration": 0.018258,
     "end_time": "2025-02-24T10:38:05.765608",
     "exception": false,
     "start_time": "2025-02-24T10:38:05.747350",
     "status": "completed"
    },
    "tags": []
   },
   "outputs": [
    {
     "data": {
      "application/javascript": [
       "parent.postMessage({\"jupyterEvent\": \"custom.exercise_interaction\", \"data\": {\"outcomeType\": 1, \"valueTowardsCompletion\": 0.2, \"interactionType\": 1, \"questionType\": 2, \"questionId\": \"1_GetExpectedCost\", \"learnToolsVersion\": \"0.3.4\", \"failureMessage\": \"\", \"exceptionClass\": \"\", \"trace\": \"\"}}, \"*\")"
      ],
      "text/plain": [
       "<IPython.core.display.Javascript object>"
      ]
     },
     "metadata": {},
     "output_type": "display_data"
    },
    {
     "data": {
      "text/markdown": [
       "<span style=\"color:#33cc33\">Correct</span>"
      ],
      "text/plain": [
       "Correct"
      ]
     },
     "metadata": {},
     "output_type": "display_data"
    }
   ],
   "source": [
    "# TODO: Complete the function\n",
    "def get_expected_cost(beds, baths):\n",
    "    value =80000 + 30000 * beds + 10000 * baths\n",
    "    return value\n",
    "\n",
    "# Check your answer \n",
    "q1.check()"
   ]
  },
  {
   "cell_type": "code",
   "execution_count": 3,
   "id": "70709bed",
   "metadata": {
    "execution": {
     "iopub.execute_input": "2025-02-24T10:38:05.778858Z",
     "iopub.status.busy": "2025-02-24T10:38:05.778412Z",
     "iopub.status.idle": "2025-02-24T10:38:05.782037Z",
     "shell.execute_reply": "2025-02-24T10:38:05.781113Z"
    },
    "papermill": {
     "duration": 0.012108,
     "end_time": "2025-02-24T10:38:05.783503",
     "exception": false,
     "start_time": "2025-02-24T10:38:05.771395",
     "status": "completed"
    },
    "tags": []
   },
   "outputs": [],
   "source": [
    "# Uncomment to see a hint\n",
    "#q1.hint()\n",
    "\n",
    "# Uncomment to view the solution\n",
    "#q1.solution()"
   ]
  },
  {
   "cell_type": "markdown",
   "id": "adbb1a5d",
   "metadata": {
    "papermill": {
     "duration": 0.004983,
     "end_time": "2025-02-24T10:38:05.793789",
     "exception": false,
     "start_time": "2025-02-24T10:38:05.788806",
     "status": "completed"
    },
    "tags": []
   },
   "source": [
    "# Question 2\n",
    "\n",
    "You are thinking about buying a home and want to get an idea of how much you will spend, based on the number of bedrooms and bathrooms.  You are trying to decide between four different options:\n",
    "- Option 1: house with two bedrooms and three bathrooms\n",
    "- Option 2: house with three bedrooms and two bathrooms\n",
    "- Option 3: house with three bedrooms and three bathrooms\n",
    "- Option 4: house with three bedrooms and four bathrooms\n",
    "\n",
    "Use the `get_expected_cost()` function you defined in question 1 to set `option_1`, `option_2`, `option_3`, and `option_4` to the expected cost of each option."
   ]
  },
  {
   "cell_type": "code",
   "execution_count": 4,
   "id": "a54b0586",
   "metadata": {
    "execution": {
     "iopub.execute_input": "2025-02-24T10:38:05.804971Z",
     "iopub.status.busy": "2025-02-24T10:38:05.804594Z",
     "iopub.status.idle": "2025-02-24T10:38:05.815038Z",
     "shell.execute_reply": "2025-02-24T10:38:05.813778Z"
    },
    "papermill": {
     "duration": 0.018289,
     "end_time": "2025-02-24T10:38:05.817157",
     "exception": false,
     "start_time": "2025-02-24T10:38:05.798868",
     "status": "completed"
    },
    "tags": []
   },
   "outputs": [
    {
     "name": "stdout",
     "output_type": "stream",
     "text": [
      "170000\n",
      "190000\n",
      "200000\n",
      "210000\n"
     ]
    },
    {
     "data": {
      "application/javascript": [
       "parent.postMessage({\"jupyterEvent\": \"custom.exercise_interaction\", \"data\": {\"outcomeType\": 1, \"valueTowardsCompletion\": 0.2, \"interactionType\": 1, \"questionType\": 1, \"questionId\": \"2_RunGetExpectedCost\", \"learnToolsVersion\": \"0.3.4\", \"failureMessage\": \"\", \"exceptionClass\": \"\", \"trace\": \"\"}}, \"*\")"
      ],
      "text/plain": [
       "<IPython.core.display.Javascript object>"
      ]
     },
     "metadata": {},
     "output_type": "display_data"
    },
    {
     "data": {
      "text/markdown": [
       "<span style=\"color:#33cc33\">Correct</span>"
      ],
      "text/plain": [
       "Correct"
      ]
     },
     "metadata": {},
     "output_type": "display_data"
    }
   ],
   "source": [
    "# TODO: Use the get_expected_cost function to fill in each value\n",
    "option_one = get_expected_cost(2, 3)\n",
    "option_two = get_expected_cost(3, 2)\n",
    "option_three = get_expected_cost(3, 3)\n",
    "option_four = get_expected_cost(3, 4)\n",
    "\n",
    "print(option_one)\n",
    "print(option_two)\n",
    "print(option_three)\n",
    "print(option_four)\n",
    "\n",
    "# Check your answer\n",
    "q2.check()"
   ]
  },
  {
   "cell_type": "code",
   "execution_count": 5,
   "id": "415e7fb1",
   "metadata": {
    "execution": {
     "iopub.execute_input": "2025-02-24T10:38:05.830106Z",
     "iopub.status.busy": "2025-02-24T10:38:05.829762Z",
     "iopub.status.idle": "2025-02-24T10:38:05.833730Z",
     "shell.execute_reply": "2025-02-24T10:38:05.832626Z"
    },
    "papermill": {
     "duration": 0.012997,
     "end_time": "2025-02-24T10:38:05.835790",
     "exception": false,
     "start_time": "2025-02-24T10:38:05.822793",
     "status": "completed"
    },
    "tags": []
   },
   "outputs": [],
   "source": [
    "# Uncomment to see a hint\n",
    "#q2.hint()\n",
    "\n",
    "# Uncomment to view the solution\n",
    "#q2.solution()"
   ]
  },
  {
   "cell_type": "markdown",
   "id": "052f0064",
   "metadata": {
    "papermill": {
     "duration": 0.005471,
     "end_time": "2025-02-24T10:38:05.847084",
     "exception": false,
     "start_time": "2025-02-24T10:38:05.841613",
     "status": "completed"
    },
    "tags": []
   },
   "source": [
    "# Question 3\n",
    "\n",
    "You're a home decorator, and you'd like to use Python to streamline some of your work.  Specifically, you're creating a tool that you intend to use to calculate the cost of painting a room.\n",
    "\n",
    "As a first step, define a function `get_cost()` that takes as input:\n",
    "- `sqft_walls` = total square feet of walls to be painted\n",
    "- `sqft_ceiling` = square feet of ceiling to be painted\n",
    "- `sqft_per_gallon` = number of square feet that you can cover with one gallon of paint\n",
    "- `cost_per_gallon` = cost (in dollars) of one gallon of paint\n",
    "\n",
    "It should return the cost (in dollars) of putting one coat of paint on all walls and the ceiling.  Assume you can buy the exact amount of paint that you need, so you can buy partial gallons (e.g., if you need 7.523 gallons, you can buy that exact amount, instead of needing to buy 8 gallons and waste some paint).  Do not round your answer."
   ]
  },
  {
   "cell_type": "code",
   "execution_count": 6,
   "id": "f45a9c21",
   "metadata": {
    "execution": {
     "iopub.execute_input": "2025-02-24T10:38:05.860989Z",
     "iopub.status.busy": "2025-02-24T10:38:05.860411Z",
     "iopub.status.idle": "2025-02-24T10:38:05.869221Z",
     "shell.execute_reply": "2025-02-24T10:38:05.868362Z"
    },
    "papermill": {
     "duration": 0.017886,
     "end_time": "2025-02-24T10:38:05.870822",
     "exception": false,
     "start_time": "2025-02-24T10:38:05.852936",
     "status": "completed"
    },
    "tags": []
   },
   "outputs": [
    {
     "data": {
      "application/javascript": [
       "parent.postMessage({\"jupyterEvent\": \"custom.exercise_interaction\", \"data\": {\"outcomeType\": 1, \"valueTowardsCompletion\": 0.2, \"interactionType\": 1, \"questionType\": 2, \"questionId\": \"3_GetCostPaint\", \"learnToolsVersion\": \"0.3.4\", \"failureMessage\": \"\", \"exceptionClass\": \"\", \"trace\": \"\"}}, \"*\")"
      ],
      "text/plain": [
       "<IPython.core.display.Javascript object>"
      ]
     },
     "metadata": {},
     "output_type": "display_data"
    },
    {
     "data": {
      "text/markdown": [
       "<span style=\"color:#33cc33\">Correct</span>"
      ],
      "text/plain": [
       "Correct"
      ]
     },
     "metadata": {},
     "output_type": "display_data"
    }
   ],
   "source": [
    "# TODO: Finish defining the function\n",
    "def get_cost(sqft_walls, sqft_ceiling, sqft_per_gallon, cost_per_gallon):\n",
    "    total_sqft = sqft_walls + sqft_ceiling\n",
    "    gallons_needed = total_sqft / sqft_per_gallon\n",
    "    cost = cost_per_gallon * gallons_needed\n",
    "    return cost\n",
    "\n",
    "# Check your answer\n",
    "q3.check()"
   ]
  },
  {
   "cell_type": "code",
   "execution_count": 7,
   "id": "10ec1a81",
   "metadata": {
    "execution": {
     "iopub.execute_input": "2025-02-24T10:38:05.884231Z",
     "iopub.status.busy": "2025-02-24T10:38:05.883880Z",
     "iopub.status.idle": "2025-02-24T10:38:05.887623Z",
     "shell.execute_reply": "2025-02-24T10:38:05.886590Z"
    },
    "papermill": {
     "duration": 0.012482,
     "end_time": "2025-02-24T10:38:05.889325",
     "exception": false,
     "start_time": "2025-02-24T10:38:05.876843",
     "status": "completed"
    },
    "tags": []
   },
   "outputs": [],
   "source": [
    "# Uncomment to see a hint\n",
    "#q3.hint()\n",
    "\n",
    "# Uncomment to view the solution\n",
    "#q3.solution()"
   ]
  },
  {
   "cell_type": "markdown",
   "id": "cac2586f",
   "metadata": {
    "papermill": {
     "duration": 0.005514,
     "end_time": "2025-02-24T10:38:05.900945",
     "exception": false,
     "start_time": "2025-02-24T10:38:05.895431",
     "status": "completed"
    },
    "tags": []
   },
   "source": [
    "# Question 4\n",
    "\n",
    "Use the `get_cost()` function you defined in Question 3 to calculate the cost of applying one coat of paint to a room with:\n",
    "- 432 square feet of walls, and\n",
    "- 144 square feet of ceiling.\n",
    "\n",
    "Assume that one gallon of paint covers 400 square feet and costs $15.  As in Question 3, assume you can buy partial gallons of paint.  Do not round your answer."
   ]
  },
  {
   "cell_type": "code",
   "execution_count": 8,
   "id": "e4da479c",
   "metadata": {
    "execution": {
     "iopub.execute_input": "2025-02-24T10:38:05.915152Z",
     "iopub.status.busy": "2025-02-24T10:38:05.914790Z",
     "iopub.status.idle": "2025-02-24T10:38:05.922814Z",
     "shell.execute_reply": "2025-02-24T10:38:05.921756Z"
    },
    "papermill": {
     "duration": 0.017766,
     "end_time": "2025-02-24T10:38:05.924622",
     "exception": false,
     "start_time": "2025-02-24T10:38:05.906856",
     "status": "completed"
    },
    "tags": []
   },
   "outputs": [
    {
     "data": {
      "application/javascript": [
       "parent.postMessage({\"jupyterEvent\": \"custom.exercise_interaction\", \"data\": {\"outcomeType\": 1, \"valueTowardsCompletion\": 0.2, \"interactionType\": 1, \"questionType\": 1, \"questionId\": \"4_GetCostPaintExample\", \"learnToolsVersion\": \"0.3.4\", \"failureMessage\": \"\", \"exceptionClass\": \"\", \"trace\": \"\"}}, \"*\")"
      ],
      "text/plain": [
       "<IPython.core.display.Javascript object>"
      ]
     },
     "metadata": {},
     "output_type": "display_data"
    },
    {
     "data": {
      "text/markdown": [
       "<span style=\"color:#33cc33\">Correct</span>"
      ],
      "text/plain": [
       "Correct"
      ]
     },
     "metadata": {},
     "output_type": "display_data"
    }
   ],
   "source": [
    "# TODO: Set the project_cost variable to the cost of the project\n",
    "project_cost = get_cost(432, 144, 400, 15)\n",
    "\n",
    "# Check your answer\n",
    "q4.check()"
   ]
  },
  {
   "cell_type": "code",
   "execution_count": 9,
   "id": "f896b8ac",
   "metadata": {
    "execution": {
     "iopub.execute_input": "2025-02-24T10:38:05.937758Z",
     "iopub.status.busy": "2025-02-24T10:38:05.937395Z",
     "iopub.status.idle": "2025-02-24T10:38:05.941210Z",
     "shell.execute_reply": "2025-02-24T10:38:05.940285Z"
    },
    "papermill": {
     "duration": 0.011709,
     "end_time": "2025-02-24T10:38:05.942600",
     "exception": false,
     "start_time": "2025-02-24T10:38:05.930891",
     "status": "completed"
    },
    "tags": []
   },
   "outputs": [],
   "source": [
    "# Uncomment to see a hint\n",
    "#q4.hint()\n",
    "\n",
    "# Uncomment to view the solution\n",
    "#q4.solution()"
   ]
  },
  {
   "cell_type": "markdown",
   "id": "8467ac72",
   "metadata": {
    "papermill": {
     "duration": 0.006062,
     "end_time": "2025-02-24T10:38:05.954981",
     "exception": false,
     "start_time": "2025-02-24T10:38:05.948919",
     "status": "completed"
    },
    "tags": []
   },
   "source": [
    "# 🌶️ Question 5\n",
    "\n",
    "Now say you can no longer buy fractions of a gallon.  (For instance, if you need 4.3 gallons to do a project, then you have to buy 5 gallons of paint.)\n",
    "\n",
    "With this new scenario, you will create a new function `get_actual_cost` that uses the same inputs and calculates the cost of your project.\n",
    "\n",
    "One function that you'll need to use to do this is `math.ceil()`.  We demonstrate usage of this function in the code cell below.  It takes as a number as input and rounds the number up to the nearest integer.  \n",
    "\n",
    "Run the next code cell to test this function for yourself.  Feel free to change the value of `test_value` and make sure `math.ceil()` returns the number you expect."
   ]
  },
  {
   "cell_type": "code",
   "execution_count": 10,
   "id": "b5179598",
   "metadata": {
    "execution": {
     "iopub.execute_input": "2025-02-24T10:38:05.968380Z",
     "iopub.status.busy": "2025-02-24T10:38:05.967906Z",
     "iopub.status.idle": "2025-02-24T10:38:05.974045Z",
     "shell.execute_reply": "2025-02-24T10:38:05.972207Z"
    },
    "papermill": {
     "duration": 0.01486,
     "end_time": "2025-02-24T10:38:05.975698",
     "exception": false,
     "start_time": "2025-02-24T10:38:05.960838",
     "status": "completed"
    },
    "tags": []
   },
   "outputs": [
    {
     "name": "stdout",
     "output_type": "stream",
     "text": [
      "3\n"
     ]
    }
   ],
   "source": [
    "test_value = 2.17\n",
    "\n",
    "rounded_value = math.ceil(test_value)\n",
    "print(rounded_value)"
   ]
  },
  {
   "cell_type": "markdown",
   "id": "558e3f7d",
   "metadata": {
    "papermill": {
     "duration": 0.005715,
     "end_time": "2025-02-24T10:38:05.987558",
     "exception": false,
     "start_time": "2025-02-24T10:38:05.981843",
     "status": "completed"
    },
    "tags": []
   },
   "source": [
    "Use the next code cell to define the function `get_actual_cost()`.  You'll need to use the `math.ceil()` function to do this.\n",
    "\n",
    "When answering this question, note that it's completely valid to define a function that makes use of another function.  For instance, we can define a function `round_up_and_divide_by_three` that makes use of the `math.ceil` function:\n",
    "```\n",
    "def round_up_and_divide_by_three(num):\n",
    "    new_value = math.ceil(num)\n",
    "    final_value = new_value / 3\n",
    "    return final_value\n",
    "```"
   ]
  },
  {
   "cell_type": "code",
   "execution_count": 11,
   "id": "e1c7c626",
   "metadata": {
    "execution": {
     "iopub.execute_input": "2025-02-24T10:38:06.001104Z",
     "iopub.status.busy": "2025-02-24T10:38:06.000430Z",
     "iopub.status.idle": "2025-02-24T10:38:06.009331Z",
     "shell.execute_reply": "2025-02-24T10:38:06.008356Z"
    },
    "papermill": {
     "duration": 0.017336,
     "end_time": "2025-02-24T10:38:06.010747",
     "exception": false,
     "start_time": "2025-02-24T10:38:05.993411",
     "status": "completed"
    },
    "tags": []
   },
   "outputs": [
    {
     "data": {
      "application/javascript": [
       "parent.postMessage({\"jupyterEvent\": \"custom.exercise_interaction\", \"data\": {\"outcomeType\": 1, \"valueTowardsCompletion\": 0.2, \"interactionType\": 1, \"questionType\": 2, \"questionId\": \"5_NoMoreFractions\", \"learnToolsVersion\": \"0.3.4\", \"failureMessage\": \"\", \"exceptionClass\": \"\", \"trace\": \"\"}}, \"*\")"
      ],
      "text/plain": [
       "<IPython.core.display.Javascript object>"
      ]
     },
     "metadata": {},
     "output_type": "display_data"
    },
    {
     "data": {
      "text/markdown": [
       "<span style=\"color:#33cc33\">Correct</span>"
      ],
      "text/plain": [
       "Correct"
      ]
     },
     "metadata": {},
     "output_type": "display_data"
    }
   ],
   "source": [
    "def get_actual_cost(sqft_walls, sqft_ceiling, sqft_per_gallon, cost_per_gallon):\n",
    "    total_sqft = sqft_walls + sqft_ceiling\n",
    "    gallons_needed = total_sqft / sqft_per_gallon\n",
    "    gallons_to_buy = math.ceil(gallons_needed)\n",
    "    cost = cost_per_gallon * gallons_to_buy\n",
    "    return cost\n",
    "\n",
    "# Check your answer\n",
    "q5.check()"
   ]
  },
  {
   "cell_type": "code",
   "execution_count": 12,
   "id": "eae10e90",
   "metadata": {
    "execution": {
     "iopub.execute_input": "2025-02-24T10:38:06.024373Z",
     "iopub.status.busy": "2025-02-24T10:38:06.023976Z",
     "iopub.status.idle": "2025-02-24T10:38:06.027725Z",
     "shell.execute_reply": "2025-02-24T10:38:06.026788Z"
    },
    "papermill": {
     "duration": 0.012417,
     "end_time": "2025-02-24T10:38:06.029392",
     "exception": false,
     "start_time": "2025-02-24T10:38:06.016975",
     "status": "completed"
    },
    "tags": []
   },
   "outputs": [],
   "source": [
    "# Uncomment to see a hint\n",
    "#q5.hint()\n",
    "\n",
    "# Uncomment to view the solution\n",
    "#q5.solution()"
   ]
  },
  {
   "cell_type": "markdown",
   "id": "655b62d8",
   "metadata": {
    "papermill": {
     "duration": 0.005634,
     "end_time": "2025-02-24T10:38:06.041412",
     "exception": false,
     "start_time": "2025-02-24T10:38:06.035778",
     "status": "completed"
    },
    "tags": []
   },
   "source": [
    "Once your function is verified as correct, run the next code cell to calculate the updated cost of your project."
   ]
  },
  {
   "cell_type": "code",
   "execution_count": 13,
   "id": "cc6642c7",
   "metadata": {
    "execution": {
     "iopub.execute_input": "2025-02-24T10:38:06.054698Z",
     "iopub.status.busy": "2025-02-24T10:38:06.054331Z",
     "iopub.status.idle": "2025-02-24T10:38:06.060042Z",
     "shell.execute_reply": "2025-02-24T10:38:06.059014Z"
    },
    "papermill": {
     "duration": 0.014366,
     "end_time": "2025-02-24T10:38:06.061561",
     "exception": false,
     "start_time": "2025-02-24T10:38:06.047195",
     "status": "completed"
    },
    "tags": []
   },
   "outputs": [
    {
     "data": {
      "text/plain": [
       "30"
      ]
     },
     "execution_count": 13,
     "metadata": {},
     "output_type": "execute_result"
    }
   ],
   "source": [
    "get_actual_cost(432, 144, 400, 15) "
   ]
  },
  {
   "cell_type": "markdown",
   "id": "cc001e62",
   "metadata": {
    "papermill": {
     "duration": 0.005903,
     "end_time": "2025-02-24T10:38:06.073807",
     "exception": false,
     "start_time": "2025-02-24T10:38:06.067904",
     "status": "completed"
    },
    "tags": []
   },
   "source": [
    "Say you're working with a slightly larger room.  Run the next code cell to calculate the cost of the project."
   ]
  },
  {
   "cell_type": "code",
   "execution_count": 14,
   "id": "77f07b0e",
   "metadata": {
    "execution": {
     "iopub.execute_input": "2025-02-24T10:38:06.088410Z",
     "iopub.status.busy": "2025-02-24T10:38:06.087976Z",
     "iopub.status.idle": "2025-02-24T10:38:06.094164Z",
     "shell.execute_reply": "2025-02-24T10:38:06.092774Z"
    },
    "papermill": {
     "duration": 0.015651,
     "end_time": "2025-02-24T10:38:06.095958",
     "exception": false,
     "start_time": "2025-02-24T10:38:06.080307",
     "status": "completed"
    },
    "tags": []
   },
   "outputs": [
    {
     "data": {
      "text/plain": [
       "45"
      ]
     },
     "execution_count": 14,
     "metadata": {},
     "output_type": "execute_result"
    }
   ],
   "source": [
    "get_actual_cost(594, 288, 400, 15) "
   ]
  },
  {
   "cell_type": "markdown",
   "id": "66080c41",
   "metadata": {
    "papermill": {
     "duration": 0.006169,
     "end_time": "2025-02-24T10:38:06.108626",
     "exception": false,
     "start_time": "2025-02-24T10:38:06.102457",
     "status": "completed"
    },
    "tags": []
   },
   "source": [
    "# Keep going\n",
    "\n",
    "Continue to learn about **[data types](https://www.kaggle.com/alexisbcook/data-types)**."
   ]
  },
  {
   "cell_type": "markdown",
   "id": "7f0da80f",
   "metadata": {
    "papermill": {
     "duration": 0.006674,
     "end_time": "2025-02-24T10:38:06.121808",
     "exception": false,
     "start_time": "2025-02-24T10:38:06.115134",
     "status": "completed"
    },
    "tags": []
   },
   "source": [
    "---\n",
    "\n",
    "\n",
    "\n",
    "\n",
    "*Have questions or comments? Visit the [course discussion forum](https://www.kaggle.com/learn/intro-to-programming/discussion) to chat with other learners.*"
   ]
  }
 ],
 "metadata": {
  "kaggle": {
   "accelerator": "none",
   "dataSources": [],
   "isGpuEnabled": false,
   "isInternetEnabled": false,
   "language": "python",
   "sourceType": "notebook"
  },
  "kernelspec": {
   "display_name": "Python 3",
   "language": "python",
   "name": "python3"
  },
  "language_info": {
   "codemirror_mode": {
    "name": "ipython",
    "version": 3
   },
   "file_extension": ".py",
   "mimetype": "text/x-python",
   "name": "python",
   "nbconvert_exporter": "python",
   "pygments_lexer": "ipython3",
   "version": "3.10.12"
  },
  "papermill": {
   "default_parameters": {},
   "duration": 5.642911,
   "end_time": "2025-02-24T10:38:06.749524",
   "environment_variables": {},
   "exception": null,
   "input_path": "__notebook__.ipynb",
   "output_path": "__notebook__.ipynb",
   "parameters": {},
   "start_time": "2025-02-24T10:38:01.106613",
   "version": "2.6.0"
  }
 },
 "nbformat": 4,
 "nbformat_minor": 5
}
